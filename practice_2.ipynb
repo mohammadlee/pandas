{
 "cells": [
  {
   "cell_type": "code",
   "execution_count": 2,
   "id": "856c2d01",
   "metadata": {},
   "outputs": [],
   "source": [
    "import pandas as pd\n",
    "import matplotlib.pyplot as plt"
   ]
  },
  {
   "cell_type": "code",
   "execution_count": 10,
   "id": "33d8f35e",
   "metadata": {},
   "outputs": [],
   "source": [
    "df=pd.read_csv('./csv/countries.csv',header=0,sep=',',names=['id','iso country','country','continate', 'link','note'],encoding='UTF-8')"
   ]
  },
  {
   "cell_type": "code",
   "execution_count": 11,
   "id": "16a0f760",
   "metadata": {},
   "outputs": [],
   "source": [
    "df.to_csv('countryes_2.csv',index=False)"
   ]
  },
  {
   "cell_type": "code",
   "execution_count": null,
   "id": "d57d8fe1",
   "metadata": {},
   "outputs": [],
   "source": []
  }
 ],
 "metadata": {
  "kernelspec": {
   "display_name": "Python 3 (ipykernel)",
   "language": "python",
   "name": "python3"
  },
  "language_info": {
   "codemirror_mode": {
    "name": "ipython",
    "version": 3
   },
   "file_extension": ".py",
   "mimetype": "text/x-python",
   "name": "python",
   "nbconvert_exporter": "python",
   "pygments_lexer": "ipython3",
   "version": "3.10.9"
  }
 },
 "nbformat": 4,
 "nbformat_minor": 5
}
